{
 "cells": [
  {
   "cell_type": "markdown",
   "metadata": {},
   "source": [
    "# Data Preparation"
   ]
  },
  {
   "cell_type": "code",
   "execution_count": 1,
   "metadata": {},
   "outputs": [],
   "source": [
    "# Import Required Libraries\n",
    "import pandas as pd\n",
    "import numpy as np\n",
    "import re\n",
    "from sklearn.preprocessing import LabelEncoder,OneHotEncoder\n",
    "import matplotlib.pyplot as plt"
   ]
  },
  {
   "cell_type": "code",
   "execution_count": 2,
   "metadata": {},
   "outputs": [],
   "source": [
    "#names of columns\n",
    "names = ['Date', 'Instance Type', 'OS', 'Region', 'Price ($)']\n",
    "#Reading Data\n",
    "data = pd.read_csv('data/ap-northeast-1.csv',names=names)[::-1]\n",
    "data['Date'] = pd.to_datetime(data['Date'], format='%Y-%m-%d %H:%M:%S+00:00', utc=False)"
   ]
  },
  {
   "cell_type": "code",
   "execution_count": 3,
   "metadata": {},
   "outputs": [
    {
     "name": "stdout",
     "output_type": "stream",
     "text": [
      "<class 'pandas.core.frame.DataFrame'>\n",
      "RangeIndex: 1957000 entries, 1956999 to 0\n",
      "Data columns (total 5 columns):\n",
      " #   Column         Dtype         \n",
      "---  ------         -----         \n",
      " 0   Date           datetime64[ns]\n",
      " 1   Instance Type  object        \n",
      " 2   OS             object        \n",
      " 3   Region         object        \n",
      " 4   Price ($)      float64       \n",
      "dtypes: datetime64[ns](1), float64(1), object(3)\n",
      "memory usage: 74.7+ MB\n"
     ]
    }
   ],
   "source": [
    "data.info()"
   ]
  },
  {
   "cell_type": "code",
   "execution_count": 4,
   "metadata": {},
   "outputs": [
    {
     "data": {
      "text/html": [
       "<div>\n",
       "<style scoped>\n",
       "    .dataframe tbody tr th:only-of-type {\n",
       "        vertical-align: middle;\n",
       "    }\n",
       "\n",
       "    .dataframe tbody tr th {\n",
       "        vertical-align: top;\n",
       "    }\n",
       "\n",
       "    .dataframe thead th {\n",
       "        text-align: right;\n",
       "    }\n",
       "</style>\n",
       "<table border=\"1\" class=\"dataframe\">\n",
       "  <thead>\n",
       "    <tr style=\"text-align: right;\">\n",
       "      <th></th>\n",
       "      <th>Date</th>\n",
       "      <th>Instance Type</th>\n",
       "      <th>OS</th>\n",
       "      <th>Region</th>\n",
       "      <th>Price ($)</th>\n",
       "    </tr>\n",
       "  </thead>\n",
       "  <tbody>\n",
       "    <tr>\n",
       "      <th>1956999</th>\n",
       "      <td>2017-03-30 07:25:12</td>\n",
       "      <td>m4.large</td>\n",
       "      <td>Windows</td>\n",
       "      <td>ap-northeast-1c</td>\n",
       "      <td>0.1210</td>\n",
       "    </tr>\n",
       "    <tr>\n",
       "      <th>1956998</th>\n",
       "      <td>2017-03-30 07:25:13</td>\n",
       "      <td>c3.2xlarge</td>\n",
       "      <td>Linux/UNIX</td>\n",
       "      <td>ap-northeast-1c</td>\n",
       "      <td>0.0976</td>\n",
       "    </tr>\n",
       "    <tr>\n",
       "      <th>1956997</th>\n",
       "      <td>2017-03-30 07:25:13</td>\n",
       "      <td>c3.2xlarge</td>\n",
       "      <td>SUSE Linux</td>\n",
       "      <td>ap-northeast-1c</td>\n",
       "      <td>0.1976</td>\n",
       "    </tr>\n",
       "    <tr>\n",
       "      <th>1956996</th>\n",
       "      <td>2017-03-30 07:25:13</td>\n",
       "      <td>m4.xlarge</td>\n",
       "      <td>Windows</td>\n",
       "      <td>ap-northeast-1c</td>\n",
       "      <td>0.2394</td>\n",
       "    </tr>\n",
       "    <tr>\n",
       "      <th>1956995</th>\n",
       "      <td>2017-03-30 07:25:16</td>\n",
       "      <td>g2.2xlarge</td>\n",
       "      <td>Windows</td>\n",
       "      <td>ap-northeast-1c</td>\n",
       "      <td>0.1183</td>\n",
       "    </tr>\n",
       "  </tbody>\n",
       "</table>\n",
       "</div>"
      ],
      "text/plain": [
       "                       Date Instance Type          OS           Region  \\\n",
       "1956999 2017-03-30 07:25:12      m4.large     Windows  ap-northeast-1c   \n",
       "1956998 2017-03-30 07:25:13    c3.2xlarge  Linux/UNIX  ap-northeast-1c   \n",
       "1956997 2017-03-30 07:25:13    c3.2xlarge  SUSE Linux  ap-northeast-1c   \n",
       "1956996 2017-03-30 07:25:13     m4.xlarge     Windows  ap-northeast-1c   \n",
       "1956995 2017-03-30 07:25:16    g2.2xlarge     Windows  ap-northeast-1c   \n",
       "\n",
       "         Price ($)  \n",
       "1956999     0.1210  \n",
       "1956998     0.0976  \n",
       "1956997     0.1976  \n",
       "1956996     0.2394  \n",
       "1956995     0.1183  "
      ]
     },
     "execution_count": 4,
     "metadata": {},
     "output_type": "execute_result"
    }
   ],
   "source": [
    "data.head()"
   ]
  },
  {
   "cell_type": "code",
   "execution_count": 5,
   "metadata": {},
   "outputs": [
    {
     "data": {
      "text/plain": [
       "62"
      ]
     },
     "execution_count": 5,
     "metadata": {},
     "output_type": "execute_result"
    }
   ],
   "source": [
    "len(data['Instance Type'].value_counts())"
   ]
  },
  {
   "cell_type": "code",
   "execution_count": 6,
   "metadata": {},
   "outputs": [
    {
     "data": {
      "text/plain": [
       "[<matplotlib.lines.Line2D at 0x1b98c550c88>]"
      ]
     },
     "execution_count": 6,
     "metadata": {},
     "output_type": "execute_result"
    },
    {
     "data": {
      "image/png": "[encoded data removed]",
      "text/plain": [
       "<Figure size 432x288 with 1 Axes>"
      ]
     },
     "metadata": {
      "needs_background": "light"
     },
     "output_type": "display_data"
    }
   ],
   "source": [
    "plt.plot(data['Date'][:10000],data['Price ($)'][:10000])"
   ]
  },
  {
   "cell_type": "code",
   "execution_count": 7,
   "metadata": {},
   "outputs": [
    {
     "data": {
      "text/html": [
       "<div>\n",
       "<style scoped>\n",
       "    .dataframe tbody tr th:only-of-type {\n",
       "        vertical-align: middle;\n",
       "    }\n",
       "\n",
       "    .dataframe tbody tr th {\n",
       "        vertical-align: top;\n",
       "    }\n",
       "\n",
       "    .dataframe thead th {\n",
       "        text-align: right;\n",
       "    }\n",
       "</style>\n",
       "<table border=\"1\" class=\"dataframe\">\n",
       "  <thead>\n",
       "    <tr style=\"text-align: right;\">\n",
       "      <th></th>\n",
       "      <th>Date</th>\n",
       "      <th>Instance Type</th>\n",
       "      <th>OS</th>\n",
       "      <th>Region</th>\n",
       "      <th>Price ($)</th>\n",
       "    </tr>\n",
       "  </thead>\n",
       "  <tbody>\n",
       "    <tr>\n",
       "      <th>4</th>\n",
       "      <td>2017-05-08 21:46:17</td>\n",
       "      <td>c4.8xlarge</td>\n",
       "      <td>SUSE Linux</td>\n",
       "      <td>ap-northeast-1a</td>\n",
       "      <td>0.7890</td>\n",
       "    </tr>\n",
       "    <tr>\n",
       "      <th>3</th>\n",
       "      <td>2017-05-08 21:46:34</td>\n",
       "      <td>i3.large</td>\n",
       "      <td>Linux/UNIX</td>\n",
       "      <td>ap-northeast-1c</td>\n",
       "      <td>0.0223</td>\n",
       "    </tr>\n",
       "    <tr>\n",
       "      <th>2</th>\n",
       "      <td>2017-05-08 21:46:34</td>\n",
       "      <td>i3.large</td>\n",
       "      <td>SUSE Linux</td>\n",
       "      <td>ap-northeast-1c</td>\n",
       "      <td>0.1223</td>\n",
       "    </tr>\n",
       "    <tr>\n",
       "      <th>1</th>\n",
       "      <td>2017-05-08 21:46:36</td>\n",
       "      <td>c3.8xlarge</td>\n",
       "      <td>Windows</td>\n",
       "      <td>ap-northeast-1c</td>\n",
       "      <td>1.7461</td>\n",
       "    </tr>\n",
       "    <tr>\n",
       "      <th>0</th>\n",
       "      <td>2017-05-08 21:46:36</td>\n",
       "      <td>c3.8xlarge</td>\n",
       "      <td>Windows</td>\n",
       "      <td>ap-northeast-1a</td>\n",
       "      <td>1.6503</td>\n",
       "    </tr>\n",
       "  </tbody>\n",
       "</table>\n",
       "</div>"
      ],
      "text/plain": [
       "                 Date Instance Type          OS           Region  Price ($)\n",
       "4 2017-05-08 21:46:17    c4.8xlarge  SUSE Linux  ap-northeast-1a     0.7890\n",
       "3 2017-05-08 21:46:34      i3.large  Linux/UNIX  ap-northeast-1c     0.0223\n",
       "2 2017-05-08 21:46:34      i3.large  SUSE Linux  ap-northeast-1c     0.1223\n",
       "1 2017-05-08 21:46:36    c3.8xlarge     Windows  ap-northeast-1c     1.7461\n",
       "0 2017-05-08 21:46:36    c3.8xlarge     Windows  ap-northeast-1a     1.6503"
      ]
     },
     "execution_count": 7,
     "metadata": {},
     "output_type": "execute_result"
    }
   ],
   "source": [
    "data.tail()"
   ]
  },
  {
   "cell_type": "code",
   "execution_count": 8,
   "metadata": {},
   "outputs": [],
   "source": [
    "# Function to take advantage of date feature\n",
    "def add_datepart(df, fldname, drop=False):\n",
    "    fld = df[fldname]\n",
    "    if not np.issubdtype(fld.dtype, np.datetime64):\n",
    "        df[fldname] = fld = pd.to_datetime(fld, infer_datetime_format=True)\n",
    "    targ_pre = re.sub('[Dd]ate$', '', fldname)\n",
    "    for n in ('Year', 'Month', 'Week', 'Day', 'Dayofweek', 'Dayofyear',\n",
    "            'Is_month_end', 'Is_month_start', 'Is_quarter_end', 'Is_quarter_start', 'Is_year_end', 'Is_year_start'):\n",
    "        df[targ_pre+n] = getattr(fld.dt,n.lower())\n",
    "        \n",
    "    df.index = df[fldname]\n",
    "    if drop: df.drop(fldname, axis=1, inplace=True)\n",
    "    \n",
    "    df.drop(['Is_month_end', 'Is_month_start', 'Is_quarter_end', 'Is_quarter_start', 'Is_year_end', 'Is_year_start'],axis=1,inplace=True)\n",
    "    \n",
    "    return df"
   ]
  },
  {
   "cell_type": "code",
   "execution_count": 9,
   "metadata": {},
   "outputs": [],
   "source": [
    "data = add_datepart(data,'Date')"
   ]
  },
  {
   "cell_type": "code",
   "execution_count": 10,
   "metadata": {},
   "outputs": [
    {
     "data": {
      "text/html": [
       "<div>\n",
       "<style scoped>\n",
       "    .dataframe tbody tr th:only-of-type {\n",
       "        vertical-align: middle;\n",
       "    }\n",
       "\n",
       "    .dataframe tbody tr th {\n",
       "        vertical-align: top;\n",
       "    }\n",
       "\n",
       "    .dataframe thead th {\n",
       "        text-align: right;\n",
       "    }\n",
       "</style>\n",
       "<table border=\"1\" class=\"dataframe\">\n",
       "  <thead>\n",
       "    <tr style=\"text-align: right;\">\n",
       "      <th></th>\n",
       "      <th>Date</th>\n",
       "      <th>Instance Type</th>\n",
       "      <th>OS</th>\n",
       "      <th>Region</th>\n",
       "      <th>Price ($)</th>\n",
       "      <th>Year</th>\n",
       "      <th>Month</th>\n",
       "      <th>Week</th>\n",
       "      <th>Day</th>\n",
       "      <th>Dayofweek</th>\n",
       "      <th>Dayofyear</th>\n",
       "    </tr>\n",
       "    <tr>\n",
       "      <th>Date</th>\n",
       "      <th></th>\n",
       "      <th></th>\n",
       "      <th></th>\n",
       "      <th></th>\n",
       "      <th></th>\n",
       "      <th></th>\n",
       "      <th></th>\n",
       "      <th></th>\n",
       "      <th></th>\n",
       "      <th></th>\n",
       "      <th></th>\n",
       "    </tr>\n",
       "  </thead>\n",
       "  <tbody>\n",
       "    <tr>\n",
       "      <th>2017-03-30 07:25:12</th>\n",
       "      <td>2017-03-30 07:25:12</td>\n",
       "      <td>m4.large</td>\n",
       "      <td>Windows</td>\n",
       "      <td>ap-northeast-1c</td>\n",
       "      <td>0.1210</td>\n",
       "      <td>2017</td>\n",
       "      <td>3</td>\n",
       "      <td>13</td>\n",
       "      <td>30</td>\n",
       "      <td>3</td>\n",
       "      <td>89</td>\n",
       "    </tr>\n",
       "    <tr>\n",
       "      <th>2017-03-30 07:25:13</th>\n",
       "      <td>2017-03-30 07:25:13</td>\n",
       "      <td>c3.2xlarge</td>\n",
       "      <td>Linux/UNIX</td>\n",
       "      <td>ap-northeast-1c</td>\n",
       "      <td>0.0976</td>\n",
       "      <td>2017</td>\n",
       "      <td>3</td>\n",
       "      <td>13</td>\n",
       "      <td>30</td>\n",
       "      <td>3</td>\n",
       "      <td>89</td>\n",
       "    </tr>\n",
       "    <tr>\n",
       "      <th>2017-03-30 07:25:13</th>\n",
       "      <td>2017-03-30 07:25:13</td>\n",
       "      <td>c3.2xlarge</td>\n",
       "      <td>SUSE Linux</td>\n",
       "      <td>ap-northeast-1c</td>\n",
       "      <td>0.1976</td>\n",
       "      <td>2017</td>\n",
       "      <td>3</td>\n",
       "      <td>13</td>\n",
       "      <td>30</td>\n",
       "      <td>3</td>\n",
       "      <td>89</td>\n",
       "    </tr>\n",
       "    <tr>\n",
       "      <th>2017-03-30 07:25:13</th>\n",
       "      <td>2017-03-30 07:25:13</td>\n",
       "      <td>m4.xlarge</td>\n",
       "      <td>Windows</td>\n",
       "      <td>ap-northeast-1c</td>\n",
       "      <td>0.2394</td>\n",
       "      <td>2017</td>\n",
       "      <td>3</td>\n",
       "      <td>13</td>\n",
       "      <td>30</td>\n",
       "      <td>3</td>\n",
       "      <td>89</td>\n",
       "    </tr>\n",
       "    <tr>\n",
       "      <th>2017-03-30 07:25:16</th>\n",
       "      <td>2017-03-30 07:25:16</td>\n",
       "      <td>g2.2xlarge</td>\n",
       "      <td>Windows</td>\n",
       "      <td>ap-northeast-1c</td>\n",
       "      <td>0.1183</td>\n",
       "      <td>2017</td>\n",
       "      <td>3</td>\n",
       "      <td>13</td>\n",
       "      <td>30</td>\n",
       "      <td>3</td>\n",
       "      <td>89</td>\n",
       "    </tr>\n",
       "  </tbody>\n",
       "</table>\n",
       "</div>"
      ],
      "text/plain": [
       "                                   Date Instance Type          OS  \\\n",
       "Date                                                                \n",
       "2017-03-30 07:25:12 2017-03-30 07:25:12      m4.large     Windows   \n",
       "2017-03-30 07:25:13 2017-03-30 07:25:13    c3.2xlarge  Linux/UNIX   \n",
       "2017-03-30 07:25:13 2017-03-30 07:25:13    c3.2xlarge  SUSE Linux   \n",
       "2017-03-30 07:25:13 2017-03-30 07:25:13     m4.xlarge     Windows   \n",
       "2017-03-30 07:25:16 2017-03-30 07:25:16    g2.2xlarge     Windows   \n",
       "\n",
       "                              Region  Price ($)  Year  Month  Week  Day  \\\n",
       "Date                                                                      \n",
       "2017-03-30 07:25:12  ap-northeast-1c     0.1210  2017      3    13   30   \n",
       "2017-03-30 07:25:13  ap-northeast-1c     0.0976  2017      3    13   30   \n",
       "2017-03-30 07:25:13  ap-northeast-1c     0.1976  2017      3    13   30   \n",
       "2017-03-30 07:25:13  ap-northeast-1c     0.2394  2017      3    13   30   \n",
       "2017-03-30 07:25:16  ap-northeast-1c     0.1183  2017      3    13   30   \n",
       "\n",
       "                     Dayofweek  Dayofyear  \n",
       "Date                                       \n",
       "2017-03-30 07:25:12          3         89  \n",
       "2017-03-30 07:25:13          3         89  \n",
       "2017-03-30 07:25:13          3         89  \n",
       "2017-03-30 07:25:13          3         89  \n",
       "2017-03-30 07:25:16          3         89  "
      ]
     },
     "execution_count": 10,
     "metadata": {},
     "output_type": "execute_result"
    }
   ],
   "source": [
    "data.head()"
   ]
  },
  {
   "cell_type": "code",
   "execution_count": 11,
   "metadata": {},
   "outputs": [
    {
     "name": "stdout",
     "output_type": "stream",
     "text": [
      "<class 'pandas.core.frame.DataFrame'>\n",
      "DatetimeIndex: 1957000 entries, 2017-03-30 07:25:12 to 2017-05-08 21:46:36\n",
      "Data columns (total 11 columns):\n",
      " #   Column         Dtype         \n",
      "---  ------         -----         \n",
      " 0   Date           datetime64[ns]\n",
      " 1   Instance Type  object        \n",
      " 2   OS             object        \n",
      " 3   Region         object        \n",
      " 4   Price ($)      float64       \n",
      " 5   Year           int64         \n",
      " 6   Month          int64         \n",
      " 7   Week           int64         \n",
      " 8   Day            int64         \n",
      " 9   Dayofweek      int64         \n",
      " 10  Dayofyear      int64         \n",
      "dtypes: datetime64[ns](1), float64(1), int64(6), object(3)\n",
      "memory usage: 179.2+ MB\n"
     ]
    }
   ],
   "source": [
    "data.info()"
   ]
  },
  {
   "cell_type": "code",
   "execution_count": 12,
   "metadata": {},
   "outputs": [],
   "source": [
    "# converting categorical features\n",
    "categorical_columns=['Instance Type', 'OS', 'Region']\n",
    "\n",
    "unique_instance=sorted(data['Instance Type'].unique())\n",
    "string1 = 'Instance_Type_'\n",
    "instance_columns=[string1 + x for x in unique_instance]"
   ]
  },
  {
   "cell_type": "code",
   "execution_count": 13,
   "metadata": {},
   "outputs": [],
   "source": [
    "data[categorical_columns] = data[categorical_columns].apply(LabelEncoder().fit_transform)"
   ]
  },
  {
   "cell_type": "code",
   "execution_count": 14,
   "metadata": {},
   "outputs": [],
   "source": [
    "# making multiple features from instance feature\n",
    "oe_enc = OneHotEncoder()\n",
    "data_oneHot = oe_enc.fit_transform(np.array(data['Instance Type']).reshape(-1,1))\n",
    "data_cat = pd.DataFrame(data_oneHot.toarray(),columns=instance_columns,index=data.Date)\n",
    "\n",
    "data = data.join(data_cat)\n",
    "data.drop(['Date','Instance Type','Year'],axis=1,inplace=True)\n"
   ]
  },
  {
   "cell_type": "code",
   "execution_count": 15,
   "metadata": {},
   "outputs": [
    {
     "data": {
      "text/html": [
       "<div>\n",
       "<style scoped>\n",
       "    .dataframe tbody tr th:only-of-type {\n",
       "        vertical-align: middle;\n",
       "    }\n",
       "\n",
       "    .dataframe tbody tr th {\n",
       "        vertical-align: top;\n",
       "    }\n",
       "\n",
       "    .dataframe thead th {\n",
       "        text-align: right;\n",
       "    }\n",
       "</style>\n",
       "<table border=\"1\" class=\"dataframe\">\n",
       "  <thead>\n",
       "    <tr style=\"text-align: right;\">\n",
       "      <th></th>\n",
       "      <th>OS</th>\n",
       "      <th>Region</th>\n",
       "      <th>Price ($)</th>\n",
       "      <th>Month</th>\n",
       "      <th>Week</th>\n",
       "      <th>Day</th>\n",
       "      <th>Dayofweek</th>\n",
       "      <th>Dayofyear</th>\n",
       "      <th>Instance_Type_c1.medium</th>\n",
       "      <th>Instance_Type_c1.xlarge</th>\n",
       "      <th>...</th>\n",
       "      <th>Instance_Type_r3.xlarge</th>\n",
       "      <th>Instance_Type_r4.16xlarge</th>\n",
       "      <th>Instance_Type_r4.2xlarge</th>\n",
       "      <th>Instance_Type_r4.4xlarge</th>\n",
       "      <th>Instance_Type_r4.8xlarge</th>\n",
       "      <th>Instance_Type_r4.large</th>\n",
       "      <th>Instance_Type_r4.xlarge</th>\n",
       "      <th>Instance_Type_t1.micro</th>\n",
       "      <th>Instance_Type_x1.16xlarge</th>\n",
       "      <th>Instance_Type_x1.32xlarge</th>\n",
       "    </tr>\n",
       "    <tr>\n",
       "      <th>Date</th>\n",
       "      <th></th>\n",
       "      <th></th>\n",
       "      <th></th>\n",
       "      <th></th>\n",
       "      <th></th>\n",
       "      <th></th>\n",
       "      <th></th>\n",
       "      <th></th>\n",
       "      <th></th>\n",
       "      <th></th>\n",
       "      <th></th>\n",
       "      <th></th>\n",
       "      <th></th>\n",
       "      <th></th>\n",
       "      <th></th>\n",
       "      <th></th>\n",
       "      <th></th>\n",
       "      <th></th>\n",
       "      <th></th>\n",
       "      <th></th>\n",
       "      <th></th>\n",
       "    </tr>\n",
       "  </thead>\n",
       "  <tbody>\n",
       "    <tr>\n",
       "      <th>2017-03-30 07:25:12</th>\n",
       "      <td>2</td>\n",
       "      <td>1</td>\n",
       "      <td>0.1210</td>\n",
       "      <td>3</td>\n",
       "      <td>13</td>\n",
       "      <td>30</td>\n",
       "      <td>3</td>\n",
       "      <td>89</td>\n",
       "      <td>0.0</td>\n",
       "      <td>0.0</td>\n",
       "      <td>...</td>\n",
       "      <td>0.0</td>\n",
       "      <td>0.0</td>\n",
       "      <td>0.0</td>\n",
       "      <td>0.0</td>\n",
       "      <td>0.0</td>\n",
       "      <td>0.0</td>\n",
       "      <td>0.0</td>\n",
       "      <td>0.0</td>\n",
       "      <td>0.0</td>\n",
       "      <td>0.0</td>\n",
       "    </tr>\n",
       "    <tr>\n",
       "      <th>2017-03-30 07:25:13</th>\n",
       "      <td>0</td>\n",
       "      <td>1</td>\n",
       "      <td>0.0976</td>\n",
       "      <td>3</td>\n",
       "      <td>13</td>\n",
       "      <td>30</td>\n",
       "      <td>3</td>\n",
       "      <td>89</td>\n",
       "      <td>0.0</td>\n",
       "      <td>0.0</td>\n",
       "      <td>...</td>\n",
       "      <td>0.0</td>\n",
       "      <td>0.0</td>\n",
       "      <td>0.0</td>\n",
       "      <td>0.0</td>\n",
       "      <td>0.0</td>\n",
       "      <td>0.0</td>\n",
       "      <td>0.0</td>\n",
       "      <td>0.0</td>\n",
       "      <td>0.0</td>\n",
       "      <td>0.0</td>\n",
       "    </tr>\n",
       "    <tr>\n",
       "      <th>2017-03-30 07:25:13</th>\n",
       "      <td>0</td>\n",
       "      <td>1</td>\n",
       "      <td>0.0976</td>\n",
       "      <td>3</td>\n",
       "      <td>13</td>\n",
       "      <td>30</td>\n",
       "      <td>3</td>\n",
       "      <td>89</td>\n",
       "      <td>0.0</td>\n",
       "      <td>0.0</td>\n",
       "      <td>...</td>\n",
       "      <td>0.0</td>\n",
       "      <td>0.0</td>\n",
       "      <td>0.0</td>\n",
       "      <td>0.0</td>\n",
       "      <td>0.0</td>\n",
       "      <td>0.0</td>\n",
       "      <td>0.0</td>\n",
       "      <td>0.0</td>\n",
       "      <td>0.0</td>\n",
       "      <td>0.0</td>\n",
       "    </tr>\n",
       "    <tr>\n",
       "      <th>2017-03-30 07:25:13</th>\n",
       "      <td>0</td>\n",
       "      <td>1</td>\n",
       "      <td>0.0976</td>\n",
       "      <td>3</td>\n",
       "      <td>13</td>\n",
       "      <td>30</td>\n",
       "      <td>3</td>\n",
       "      <td>89</td>\n",
       "      <td>0.0</td>\n",
       "      <td>0.0</td>\n",
       "      <td>...</td>\n",
       "      <td>0.0</td>\n",
       "      <td>0.0</td>\n",
       "      <td>0.0</td>\n",
       "      <td>0.0</td>\n",
       "      <td>0.0</td>\n",
       "      <td>0.0</td>\n",
       "      <td>0.0</td>\n",
       "      <td>0.0</td>\n",
       "      <td>0.0</td>\n",
       "      <td>0.0</td>\n",
       "    </tr>\n",
       "    <tr>\n",
       "      <th>2017-03-30 07:25:13</th>\n",
       "      <td>1</td>\n",
       "      <td>1</td>\n",
       "      <td>0.1976</td>\n",
       "      <td>3</td>\n",
       "      <td>13</td>\n",
       "      <td>30</td>\n",
       "      <td>3</td>\n",
       "      <td>89</td>\n",
       "      <td>0.0</td>\n",
       "      <td>0.0</td>\n",
       "      <td>...</td>\n",
       "      <td>0.0</td>\n",
       "      <td>0.0</td>\n",
       "      <td>0.0</td>\n",
       "      <td>0.0</td>\n",
       "      <td>0.0</td>\n",
       "      <td>0.0</td>\n",
       "      <td>0.0</td>\n",
       "      <td>0.0</td>\n",
       "      <td>0.0</td>\n",
       "      <td>0.0</td>\n",
       "    </tr>\n",
       "  </tbody>\n",
       "</table>\n",
       "<p>5 rows × 70 columns</p>\n",
       "</div>"
      ],
      "text/plain": [
       "                     OS  Region  Price ($)  Month  Week  Day  Dayofweek  \\\n",
       "Date                                                                      \n",
       "2017-03-30 07:25:12   2       1     0.1210      3    13   30          3   \n",
       "2017-03-30 07:25:13   0       1     0.0976      3    13   30          3   \n",
       "2017-03-30 07:25:13   0       1     0.0976      3    13   30          3   \n",
       "2017-03-30 07:25:13   0       1     0.0976      3    13   30          3   \n",
       "2017-03-30 07:25:13   1       1     0.1976      3    13   30          3   \n",
       "\n",
       "                     Dayofyear  Instance_Type_c1.medium  \\\n",
       "Date                                                      \n",
       "2017-03-30 07:25:12         89                      0.0   \n",
       "2017-03-30 07:25:13         89                      0.0   \n",
       "2017-03-30 07:25:13         89                      0.0   \n",
       "2017-03-30 07:25:13         89                      0.0   \n",
       "2017-03-30 07:25:13         89                      0.0   \n",
       "\n",
       "                     Instance_Type_c1.xlarge  ...  Instance_Type_r3.xlarge  \\\n",
       "Date                                          ...                            \n",
       "2017-03-30 07:25:12                      0.0  ...                      0.0   \n",
       "2017-03-30 07:25:13                      0.0  ...                      0.0   \n",
       "2017-03-30 07:25:13                      0.0  ...                      0.0   \n",
       "2017-03-30 07:25:13                      0.0  ...                      0.0   \n",
       "2017-03-30 07:25:13                      0.0  ...                      0.0   \n",
       "\n",
       "                     Instance_Type_r4.16xlarge  Instance_Type_r4.2xlarge  \\\n",
       "Date                                                                       \n",
       "2017-03-30 07:25:12                        0.0                       0.0   \n",
       "2017-03-30 07:25:13                        0.0                       0.0   \n",
       "2017-03-30 07:25:13                        0.0                       0.0   \n",
       "2017-03-30 07:25:13                        0.0                       0.0   \n",
       "2017-03-30 07:25:13                        0.0                       0.0   \n",
       "\n",
       "                     Instance_Type_r4.4xlarge  Instance_Type_r4.8xlarge  \\\n",
       "Date                                                                      \n",
       "2017-03-30 07:25:12                       0.0                       0.0   \n",
       "2017-03-30 07:25:13                       0.0                       0.0   \n",
       "2017-03-30 07:25:13                       0.0                       0.0   \n",
       "2017-03-30 07:25:13                       0.0                       0.0   \n",
       "2017-03-30 07:25:13                       0.0                       0.0   \n",
       "\n",
       "                     Instance_Type_r4.large  Instance_Type_r4.xlarge  \\\n",
       "Date                                                                   \n",
       "2017-03-30 07:25:12                     0.0                      0.0   \n",
       "2017-03-30 07:25:13                     0.0                      0.0   \n",
       "2017-03-30 07:25:13                     0.0                      0.0   \n",
       "2017-03-30 07:25:13                     0.0                      0.0   \n",
       "2017-03-30 07:25:13                     0.0                      0.0   \n",
       "\n",
       "                     Instance_Type_t1.micro  Instance_Type_x1.16xlarge  \\\n",
       "Date                                                                     \n",
       "2017-03-30 07:25:12                     0.0                        0.0   \n",
       "2017-03-30 07:25:13                     0.0                        0.0   \n",
       "2017-03-30 07:25:13                     0.0                        0.0   \n",
       "2017-03-30 07:25:13                     0.0                        0.0   \n",
       "2017-03-30 07:25:13                     0.0                        0.0   \n",
       "\n",
       "                     Instance_Type_x1.32xlarge  \n",
       "Date                                            \n",
       "2017-03-30 07:25:12                        0.0  \n",
       "2017-03-30 07:25:13                        0.0  \n",
       "2017-03-30 07:25:13                        0.0  \n",
       "2017-03-30 07:25:13                        0.0  \n",
       "2017-03-30 07:25:13                        0.0  \n",
       "\n",
       "[5 rows x 70 columns]"
      ]
     },
     "execution_count": 15,
     "metadata": {},
     "output_type": "execute_result"
    }
   ],
   "source": [
    "data.head()"
   ]
  },
  {
   "cell_type": "code",
   "execution_count": 17,
   "metadata": {},
   "outputs": [],
   "source": [
    "# splitting data into train and validation \n",
    "train_data = data[data.index<('2017-05-01')]\n",
    "test_data = data[data.index>=('2017-05-01')]"
   ]
  },
  {
   "cell_type": "code",
   "execution_count": 18,
   "metadata": {},
   "outputs": [
    {
     "name": "stderr",
     "output_type": "stream",
     "text": [
      "c:\\users\\soura\\anaconda3\\envs\\tensorflow_gpu\\lib\\site-packages\\pandas\\core\\frame.py:3997: SettingWithCopyWarning: \n",
      "A value is trying to be set on a copy of a slice from a DataFrame\n",
      "\n",
      "See the caveats in the documentation: https://pandas.pydata.org/pandas-docs/stable/user_guide/indexing.html#returning-a-view-versus-a-copy\n",
      "  errors=errors,\n"
     ]
    }
   ],
   "source": [
    "price_train=train_data['Price ($)']\n",
    "train_data.drop('Price ($)',axis=1,inplace=True)\n",
    "\n",
    "price_test= test_data['Price ($)']\n",
    "test_data.drop('Price ($)',axis=1,inplace=True)"
   ]
  },
  {
   "cell_type": "code",
   "execution_count": 19,
   "metadata": {},
   "outputs": [],
   "source": [
    "# Dump data to train folder\n",
    "#%mkdir train\n",
    "train_data = train_data[-50000:]\n",
    "price_train = price_train[-50000:]\n",
    "train_data.to_csv('train/train.csv',columns=None,index=False,header=False)\n",
    "price_train.to_csv('train/train_op.csv',columns=None,index=False,header=False)"
   ]
  },
  {
   "cell_type": "code",
   "execution_count": 20,
   "metadata": {},
   "outputs": [],
   "source": [
    "# dump data to validation folder\n",
    "#%mkdir validation\n",
    "test_data = test_data[:10000]\n",
    "test_data.to_csv('validation/test.csv',columns=None,index=False,header=False)\n",
    "price_test = price_test[:10000]\n",
    "price_test.to_csv('validation/test_op.csv',columns=None,index=False,header=False)"
   ]
  },
  {
   "cell_type": "code",
   "execution_count": 21,
   "metadata": {},
   "outputs": [],
   "source": [
    "# Clear memory\n",
    "%reset -f"
   ]
  },
  {
   "cell_type": "markdown",
   "metadata": {},
   "source": [
    "# Training models"
   ]
  },
  {
   "cell_type": "code",
   "execution_count": 2,
   "metadata": {},
   "outputs": [
    {
     "name": "stderr",
     "output_type": "stream",
     "text": [
      "Using TensorFlow backend.\n",
      "c:\\users\\soura\\anaconda3\\envs\\tensorflow_gpu\\lib\\site-packages\\tensorflow\\python\\framework\\dtypes.py:516: FutureWarning: Passing (type, 1) or '1type' as a synonym of type is deprecated; in a future version of numpy, it will be understood as (type, (1,)) / '(1,)type'.\n",
      "  _np_qint8 = np.dtype([(\"qint8\", np.int8, 1)])\n",
      "c:\\users\\soura\\anaconda3\\envs\\tensorflow_gpu\\lib\\site-packages\\tensorflow\\python\\framework\\dtypes.py:517: FutureWarning: Passing (type, 1) or '1type' as a synonym of type is deprecated; in a future version of numpy, it will be understood as (type, (1,)) / '(1,)type'.\n",
      "  _np_quint8 = np.dtype([(\"quint8\", np.uint8, 1)])\n",
      "c:\\users\\soura\\anaconda3\\envs\\tensorflow_gpu\\lib\\site-packages\\tensorflow\\python\\framework\\dtypes.py:518: FutureWarning: Passing (type, 1) or '1type' as a synonym of type is deprecated; in a future version of numpy, it will be understood as (type, (1,)) / '(1,)type'.\n",
      "  _np_qint16 = np.dtype([(\"qint16\", np.int16, 1)])\n",
      "c:\\users\\soura\\anaconda3\\envs\\tensorflow_gpu\\lib\\site-packages\\tensorflow\\python\\framework\\dtypes.py:519: FutureWarning: Passing (type, 1) or '1type' as a synonym of type is deprecated; in a future version of numpy, it will be understood as (type, (1,)) / '(1,)type'.\n",
      "  _np_quint16 = np.dtype([(\"quint16\", np.uint16, 1)])\n",
      "c:\\users\\soura\\anaconda3\\envs\\tensorflow_gpu\\lib\\site-packages\\tensorflow\\python\\framework\\dtypes.py:520: FutureWarning: Passing (type, 1) or '1type' as a synonym of type is deprecated; in a future version of numpy, it will be understood as (type, (1,)) / '(1,)type'.\n",
      "  _np_qint32 = np.dtype([(\"qint32\", np.int32, 1)])\n",
      "c:\\users\\soura\\anaconda3\\envs\\tensorflow_gpu\\lib\\site-packages\\tensorflow\\python\\framework\\dtypes.py:525: FutureWarning: Passing (type, 1) or '1type' as a synonym of type is deprecated; in a future version of numpy, it will be understood as (type, (1,)) / '(1,)type'.\n",
      "  np_resource = np.dtype([(\"resource\", np.ubyte, 1)])\n",
      "c:\\users\\soura\\anaconda3\\envs\\tensorflow_gpu\\lib\\site-packages\\tensorboard\\compat\\tensorflow_stub\\dtypes.py:541: FutureWarning: Passing (type, 1) or '1type' as a synonym of type is deprecated; in a future version of numpy, it will be understood as (type, (1,)) / '(1,)type'.\n",
      "  _np_qint8 = np.dtype([(\"qint8\", np.int8, 1)])\n",
      "c:\\users\\soura\\anaconda3\\envs\\tensorflow_gpu\\lib\\site-packages\\tensorboard\\compat\\tensorflow_stub\\dtypes.py:542: FutureWarning: Passing (type, 1) or '1type' as a synonym of type is deprecated; in a future version of numpy, it will be understood as (type, (1,)) / '(1,)type'.\n",
      "  _np_quint8 = np.dtype([(\"quint8\", np.uint8, 1)])\n",
      "c:\\users\\soura\\anaconda3\\envs\\tensorflow_gpu\\lib\\site-packages\\tensorboard\\compat\\tensorflow_stub\\dtypes.py:543: FutureWarning: Passing (type, 1) or '1type' as a synonym of type is deprecated; in a future version of numpy, it will be understood as (type, (1,)) / '(1,)type'.\n",
      "  _np_qint16 = np.dtype([(\"qint16\", np.int16, 1)])\n",
      "c:\\users\\soura\\anaconda3\\envs\\tensorflow_gpu\\lib\\site-packages\\tensorboard\\compat\\tensorflow_stub\\dtypes.py:544: FutureWarning: Passing (type, 1) or '1type' as a synonym of type is deprecated; in a future version of numpy, it will be understood as (type, (1,)) / '(1,)type'.\n",
      "  _np_quint16 = np.dtype([(\"quint16\", np.uint16, 1)])\n",
      "c:\\users\\soura\\anaconda3\\envs\\tensorflow_gpu\\lib\\site-packages\\tensorboard\\compat\\tensorflow_stub\\dtypes.py:545: FutureWarning: Passing (type, 1) or '1type' as a synonym of type is deprecated; in a future version of numpy, it will be understood as (type, (1,)) / '(1,)type'.\n",
      "  _np_qint32 = np.dtype([(\"qint32\", np.int32, 1)])\n",
      "c:\\users\\soura\\anaconda3\\envs\\tensorflow_gpu\\lib\\site-packages\\tensorboard\\compat\\tensorflow_stub\\dtypes.py:550: FutureWarning: Passing (type, 1) or '1type' as a synonym of type is deprecated; in a future version of numpy, it will be understood as (type, (1,)) / '(1,)type'.\n",
      "  np_resource = np.dtype([(\"resource\", np.ubyte, 1)])\n"
     ]
    }
   ],
   "source": [
    "from Model import CNN,Lstm,ConvLstm"
   ]
  },
  {
   "cell_type": "markdown",
   "metadata": {},
   "source": [
    "## CNN"
   ]
  },
  {
   "cell_type": "code",
   "execution_count": 3,
   "metadata": {},
   "outputs": [
    {
     "name": "stdout",
     "output_type": "stream",
     "text": [
      "WARNING:tensorflow:From c:\\users\\soura\\anaconda3\\envs\\tensorflow_gpu\\lib\\site-packages\\keras\\backend\\tensorflow_backend.py:66: The name tf.get_default_graph is deprecated. Please use tf.compat.v1.get_default_graph instead.\n",
      "\n",
      "WARNING:tensorflow:From c:\\users\\soura\\anaconda3\\envs\\tensorflow_gpu\\lib\\site-packages\\keras\\backend\\tensorflow_backend.py:541: The name tf.placeholder is deprecated. Please use tf.compat.v1.placeholder instead.\n",
      "\n",
      "WARNING:tensorflow:From c:\\users\\soura\\anaconda3\\envs\\tensorflow_gpu\\lib\\site-packages\\keras\\backend\\tensorflow_backend.py:4432: The name tf.random_uniform is deprecated. Please use tf.random.uniform instead.\n",
      "\n",
      "WARNING:tensorflow:From c:\\users\\soura\\anaconda3\\envs\\tensorflow_gpu\\lib\\site-packages\\keras\\backend\\tensorflow_backend.py:148: The name tf.placeholder_with_default is deprecated. Please use tf.compat.v1.placeholder_with_default instead.\n",
      "\n"
     ]
    }
   ],
   "source": [
    "model = CNN('train','validation',epochs=20)"
   ]
  },
  {
   "cell_type": "code",
   "execution_count": 4,
   "metadata": {
    "scrolled": false
   },
   "outputs": [
    {
     "name": "stdout",
     "output_type": "stream",
     "text": [
      "WARNING:tensorflow:From c:\\users\\soura\\anaconda3\\envs\\tensorflow_gpu\\lib\\site-packages\\keras\\optimizers.py:793: The name tf.train.Optimizer is deprecated. Please use tf.compat.v1.train.Optimizer instead.\n",
      "\n",
      "Model: \"CNN\"\n",
      "_________________________________________________________________\n",
      "Layer (type)                 Output Shape              Param #   \n",
      "=================================================================\n",
      "conv1d_1 (Conv1D)            (None, 66, 8)             40        \n",
      "_________________________________________________________________\n",
      "batch_normalization_1 (Batch (None, 66, 8)             32        \n",
      "_________________________________________________________________\n",
      "activation_1 (Activation)    (None, 66, 8)             0         \n",
      "_________________________________________________________________\n",
      "flatten_1 (Flatten)          (None, 528)               0         \n",
      "_________________________________________________________________\n",
      "dense_1 (Dense)              (None, 64)                33856     \n",
      "_________________________________________________________________\n",
      "dense_2 (Dense)              (None, 1)                 65        \n",
      "=================================================================\n",
      "Total params: 33,993\n",
      "Trainable params: 33,977\n",
      "Non-trainable params: 16\n",
      "_________________________________________________________________\n",
      "None\n",
      "WARNING:tensorflow:From c:\\users\\soura\\anaconda3\\envs\\tensorflow_gpu\\lib\\site-packages\\keras\\backend\\tensorflow_backend.py:1033: The name tf.assign_add is deprecated. Please use tf.compat.v1.assign_add instead.\n",
      "\n",
      "Epoch 1/20\n",
      "3125/3125 [==============================] - 40s 13ms/step - loss: 16.0123 - mean_squared_error: 16.0123 - val_loss: 1.2989 - val_mean_squared_error: 1.2989\n",
      "Epoch 2/20\n",
      "3125/3125 [==============================] - 36s 12ms/step - loss: 15.9312 - mean_squared_error: 15.9312 - val_loss: 1.3767 - val_mean_squared_error: 1.3767\n",
      "Epoch 3/20\n",
      "3125/3125 [==============================] - 37s 12ms/step - loss: 15.8731 - mean_squared_error: 15.8731 - val_loss: 1.3754 - val_mean_squared_error: 1.3754\n",
      "Epoch 4/20\n",
      "3125/3125 [==============================] - 37s 12ms/step - loss: 15.8760 - mean_squared_error: 15.8760 - val_loss: 1.3718 - val_mean_squared_error: 1.3718\n",
      "Epoch 5/20\n",
      "3125/3125 [==============================] - 37s 12ms/step - loss: 15.8920 - mean_squared_error: 15.8920 - val_loss: 1.4124 - val_mean_squared_error: 1.4124\n",
      "Epoch 6/20\n",
      "3125/3125 [==============================] - 37s 12ms/step - loss: 15.8615 - mean_squared_error: 15.8615 - val_loss: 1.3831 - val_mean_squared_error: 1.3831\n",
      "Epoch 7/20\n",
      "3125/3125 [==============================] - 37s 12ms/step - loss: 15.8269 - mean_squared_error: 15.8269 - val_loss: 1.3009 - val_mean_squared_error: 1.3009\n",
      "Epoch 8/20\n",
      "3125/3125 [==============================] - 37s 12ms/step - loss: 15.8548 - mean_squared_error: 15.8548 - val_loss: 1.3283 - val_mean_squared_error: 1.3283\n",
      "Epoch 9/20\n",
      "3125/3125 [==============================] - 37s 12ms/step - loss: 15.8390 - mean_squared_error: 15.8390 - val_loss: 1.3200 - val_mean_squared_error: 1.3200\n",
      "Epoch 10/20\n",
      "3125/3125 [==============================] - 38s 12ms/step - loss: 15.8595 - mean_squared_error: 15.8595 - val_loss: 1.3947 - val_mean_squared_error: 1.3947\n",
      "Epoch 11/20\n",
      "3125/3125 [==============================] - 38s 12ms/step - loss: 15.8419 - mean_squared_error: 15.8419 - val_loss: 1.3512 - val_mean_squared_error: 1.3512\n",
      "Epoch 12/20\n",
      "3125/3125 [==============================] - 36s 12ms/step - loss: 15.8264 - mean_squared_error: 15.8264 - val_loss: 1.3507 - val_mean_squared_error: 1.3507\n",
      "Epoch 13/20\n",
      "3125/3125 [==============================] - 36s 12ms/step - loss: 15.8265 - mean_squared_error: 15.8265 - val_loss: 1.3505 - val_mean_squared_error: 1.3505\n",
      "Epoch 14/20\n",
      "3125/3125 [==============================] - 36s 12ms/step - loss: 15.8265 - mean_squared_error: 15.8265 - val_loss: 1.3504 - val_mean_squared_error: 1.3504\n",
      "Epoch 15/20\n",
      "3125/3125 [==============================] - 36s 12ms/step - loss: 15.8265 - mean_squared_error: 15.8265 - val_loss: 1.3504 - val_mean_squared_error: 1.3504\n",
      "Epoch 16/20\n",
      "3125/3125 [==============================] - 36s 12ms/step - loss: 15.8265 - mean_squared_error: 15.8265 - val_loss: 1.3504 - val_mean_squared_error: 1.3504\n",
      "Epoch 17/20\n",
      "3125/3125 [==============================] - 36s 12ms/step - loss: 15.8265 - mean_squared_error: 15.8265 - val_loss: 1.3504 - val_mean_squared_error: 1.3504\n",
      "Epoch 18/20\n",
      "3125/3125 [==============================] - 36s 12ms/step - loss: 15.8265 - mean_squared_error: 15.8265 - val_loss: 1.3504 - val_mean_squared_error: 1.3504\n",
      "Epoch 19/20\n",
      "3125/3125 [==============================] - 36s 12ms/step - loss: 15.8265 - mean_squared_error: 15.8265 - val_loss: 1.3504 - val_mean_squared_error: 1.3504\n",
      "Epoch 20/20\n",
      "3125/3125 [==============================] - 36s 12ms/step - loss: 15.8265 - mean_squared_error: 15.8265 - val_loss: 1.3504 - val_mean_squared_error: 1.3504\n"
     ]
    }
   ],
   "source": [
    "model.train()"
   ]
  },
  {
   "cell_type": "code",
   "execution_count": 5,
   "metadata": {},
   "outputs": [
    {
     "data": {
      "image/png": "[encoded data removed]",
      "text/plain": [
       "<Figure size 432x288 with 1 Axes>"
      ]
     },
     "metadata": {
      "needs_background": "light"
     },
     "output_type": "display_data"
    },
    {
     "data": {
      "image/png": "[encoded data removed]",
      "text/plain": [
       "<Figure size 432x288 with 1 Axes>"
      ]
     },
     "metadata": {
      "needs_background": "light"
     },
     "output_type": "display_data"
    }
   ],
   "source": [
    "model.Plot()"
   ]
  },
  {
   "cell_type": "markdown",
   "metadata": {},
   "source": [
    "## LSTM"
   ]
  },
  {
   "cell_type": "code",
   "execution_count": 11,
   "metadata": {},
   "outputs": [],
   "source": [
    "model = Lstm(\"train\",\"validation\",epochs=20)"
   ]
  },
  {
   "cell_type": "code",
   "execution_count": 12,
   "metadata": {},
   "outputs": [
    {
     "name": "stdout",
     "output_type": "stream",
     "text": [
      "Model: \"sequential_3\"\n",
      "_________________________________________________________________\n",
      "Layer (type)                 Output Shape              Param #   \n",
      "=================================================================\n",
      "lstm_7 (LSTM)                (None, 69, 8)             320       \n",
      "_________________________________________________________________\n",
      "bidirectional_3 (Bidirection (None, 16)                1088      \n",
      "_________________________________________________________________\n",
      "dense_5 (Dense)              (None, 1)                 17        \n",
      "=================================================================\n",
      "Total params: 1,425\n",
      "Trainable params: 1,425\n",
      "Non-trainable params: 0\n",
      "_________________________________________________________________\n",
      "None\n",
      "Epoch 1/20\n",
      "3125/3125 [==============================] - 1694s 542ms/step - loss: 15.8679 - mean_squared_error: 15.8679 - val_loss: 1.4389 - val_mean_squared_error: 1.4389\n",
      "Epoch 2/20\n",
      "3125/3125 [==============================] - 1686s 540ms/step - loss: 15.8455 - mean_squared_error: 15.8455 - val_loss: 1.4151 - val_mean_squared_error: 1.4151\n",
      "Epoch 3/20\n",
      "3125/3125 [==============================] - 1687s 540ms/step - loss: 15.8366 - mean_squared_error: 15.8366 - val_loss: 1.4264 - val_mean_squared_error: 1.4264\n",
      "Epoch 4/20\n",
      "3125/3125 [==============================] - 1680s 538ms/step - loss: 15.8292 - mean_squared_error: 15.8292 - val_loss: 1.3912 - val_mean_squared_error: 1.3912\n",
      "Epoch 5/20\n",
      "3125/3125 [==============================] - 1683s 539ms/step - loss: 15.8150 - mean_squared_error: 15.8150 - val_loss: 1.3519 - val_mean_squared_error: 1.3519\n",
      "Epoch 6/20\n",
      "3125/3125 [==============================] - 1673s 535ms/step - loss: 15.7943 - mean_squared_error: 15.7943 - val_loss: 1.3681 - val_mean_squared_error: 1.3681\n",
      "Epoch 7/20\n",
      "3125/3125 [==============================] - 1679s 537ms/step - loss: 15.7936 - mean_squared_error: 15.7936 - val_loss: 1.3550 - val_mean_squared_error: 1.3550\n",
      "Epoch 8/20\n",
      "3125/3125 [==============================] - 1678s 537ms/step - loss: 15.7992 - mean_squared_error: 15.7992 - val_loss: 1.3593 - val_mean_squared_error: 1.3593\n",
      "Epoch 9/20\n",
      "3125/3125 [==============================] - 1681s 538ms/step - loss: 15.7918 - mean_squared_error: 15.7918 - val_loss: 1.3598 - val_mean_squared_error: 1.3598\n",
      "Epoch 10/20\n",
      "3125/3125 [==============================] - 1697s 543ms/step - loss: 15.7864 - mean_squared_error: 15.7864 - val_loss: 1.3622 - val_mean_squared_error: 1.3622\n",
      "Epoch 11/20\n",
      "3125/3125 [==============================] - 1704s 545ms/step - loss: 15.7779 - mean_squared_error: 15.7779 - val_loss: 1.3720 - val_mean_squared_error: 1.3720\n",
      "Epoch 12/20\n",
      "3125/3125 [==============================] - 1700s 544ms/step - loss: 15.7896 - mean_squared_error: 15.7896 - val_loss: 1.3736 - val_mean_squared_error: 1.3736\n",
      "Epoch 13/20\n",
      "3125/3125 [==============================] - 1708s 547ms/step - loss: 15.7958 - mean_squared_error: 15.7958 - val_loss: 1.3705 - val_mean_squared_error: 1.3705\n",
      "Epoch 14/20\n",
      "3125/3125 [==============================] - 1708s 546ms/step - loss: 15.7893 - mean_squared_error: 15.7893 - val_loss: 1.3735 - val_mean_squared_error: 1.3735\n",
      "Epoch 15/20\n",
      "3125/3125 [==============================] - 1725s 552ms/step - loss: 15.7940 - mean_squared_error: 15.7940 - val_loss: 1.3690 - val_mean_squared_error: 1.3690\n",
      "Epoch 16/20\n",
      "3125/3125 [==============================] - 1714s 548ms/step - loss: 15.7778 - mean_squared_error: 15.7778 - val_loss: 1.3703 - val_mean_squared_error: 1.3703\n",
      "Epoch 17/20\n",
      "3125/3125 [==============================] - 1712s 548ms/step - loss: 15.7751 - mean_squared_error: 15.7751 - val_loss: 1.3741 - val_mean_squared_error: 1.3741\n",
      "Epoch 18/20\n",
      "3125/3125 [==============================] - 1718s 550ms/step - loss: 15.7747 - mean_squared_error: 15.7747 - val_loss: 1.3519 - val_mean_squared_error: 1.3519\n",
      "Epoch 19/20\n",
      "3125/3125 [==============================] - 1727s 553ms/step - loss: 15.7745 - mean_squared_error: 15.7745 - val_loss: 1.3769 - val_mean_squared_error: 1.3769\n",
      "Epoch 20/20\n",
      "3125/3125 [==============================] - 1728s 553ms/step - loss: 15.7420 - mean_squared_error: 15.7420 - val_loss: 1.4030 - val_mean_squared_error: 1.4030\n"
     ]
    }
   ],
   "source": [
    "model.train()"
   ]
  },
  {
   "cell_type": "code",
   "execution_count": 13,
   "metadata": {},
   "outputs": [
    {
     "data": {
      "image/png": "[encoded data removed]",
      "text/plain": [
       "<Figure size 432x288 with 1 Axes>"
      ]
     },
     "metadata": {
      "needs_background": "light"
     },
     "output_type": "display_data"
    },
    {
     "data": {
      "image/png": "[encoded data removed]",
      "text/plain": [
       "<Figure size 432x288 with 1 Axes>"
      ]
     },
     "metadata": {
      "needs_background": "light"
     },
     "output_type": "display_data"
    }
   ],
   "source": [
    "model.Plot()"
   ]
  },
  {
   "cell_type": "markdown",
   "metadata": {},
   "source": [
    "## Conv LSTM"
   ]
  },
  {
   "cell_type": "code",
   "execution_count": 8,
   "metadata": {},
   "outputs": [
    {
     "name": "stdout",
     "output_type": "stream",
     "text": [
      "WARNING:tensorflow:From c:\\users\\soura\\anaconda3\\envs\\tensorflow_gpu\\lib\\site-packages\\keras\\backend\\tensorflow_backend.py:4267: The name tf.nn.max_pool is deprecated. Please use tf.nn.max_pool2d instead.\n",
      "\n",
      "WARNING:tensorflow:From c:\\users\\soura\\anaconda3\\envs\\tensorflow_gpu\\lib\\site-packages\\keras\\backend\\tensorflow_backend.py:3733: calling dropout (from tensorflow.python.ops.nn_ops) with keep_prob is deprecated and will be removed in a future version.\n",
      "Instructions for updating:\n",
      "Please use `rate` instead of `keep_prob`. Rate should be set to `rate = 1 - keep_prob`.\n"
     ]
    }
   ],
   "source": [
    "model = ConvLstm(\"train\",\"validation\",epochs=20)"
   ]
  },
  {
   "cell_type": "code",
   "execution_count": 9,
   "metadata": {
    "scrolled": false
   },
   "outputs": [
    {
     "name": "stdout",
     "output_type": "stream",
     "text": [
      "Model: \"sequential_2\"\n",
      "_________________________________________________________________\n",
      "Layer (type)                 Output Shape              Param #   \n",
      "=================================================================\n",
      "time_distributed_1 (TimeDist (None, None, 69, 128)     256       \n",
      "_________________________________________________________________\n",
      "time_distributed_2 (TimeDist (None, None, 69, 128)     0         \n",
      "_________________________________________________________________\n",
      "time_distributed_3 (TimeDist (None, None, 69, 64)      8256      \n",
      "_________________________________________________________________\n",
      "time_distributed_4 (TimeDist (None, None, 69, 64)      4160      \n",
      "_________________________________________________________________\n",
      "time_distributed_5 (TimeDist (None, None, 4416)        0         \n",
      "_________________________________________________________________\n",
      "lstm_3 (LSTM)                (None, None, 250)         4667000   \n",
      "_________________________________________________________________\n",
      "lstm_4 (LSTM)                (None, None, 150)         240600    \n",
      "_________________________________________________________________\n",
      "lstm_5 (LSTM)                (None, None, 128)         142848    \n",
      "_________________________________________________________________\n",
      "bidirectional_2 (Bidirection (None, 256)               263168    \n",
      "_________________________________________________________________\n",
      "dense_4 (Dense)              (None, 1)                 257       \n",
      "=================================================================\n",
      "Total params: 5,326,545\n",
      "Trainable params: 5,326,545\n",
      "Non-trainable params: 0\n",
      "_________________________________________________________________\n",
      "None\n",
      "Epoch 1/20\n",
      "3125/3125 [==============================] - 137s 44ms/step - loss: 15.8471 - mean_squared_error: 15.8471 - val_loss: 1.3016 - val_mean_squared_error: 1.3016\n",
      "Epoch 2/20\n",
      "3125/3125 [==============================] - 132s 42ms/step - loss: 15.8471 - mean_squared_error: 15.8471 - val_loss: 1.3061 - val_mean_squared_error: 1.3061\n",
      "Epoch 3/20\n",
      "3125/3125 [==============================] - 132s 42ms/step - loss: 15.8392 - mean_squared_error: 15.8392 - val_loss: 1.3302 - val_mean_squared_error: 1.3302\n",
      "Epoch 4/20\n",
      "3125/3125 [==============================] - 132s 42ms/step - loss: 15.8289 - mean_squared_error: 15.8289 - val_loss: 1.3422 - val_mean_squared_error: 1.3422\n",
      "Epoch 5/20\n",
      "3125/3125 [==============================] - 132s 42ms/step - loss: 15.8270 - mean_squared_error: 15.8270 - val_loss: 1.3475 - val_mean_squared_error: 1.3475\n",
      "Epoch 6/20\n",
      "3125/3125 [==============================] - 132s 42ms/step - loss: 15.8266 - mean_squared_error: 15.8266 - val_loss: 1.3485 - val_mean_squared_error: 1.3485\n",
      "Epoch 7/20\n",
      "3125/3125 [==============================] - 132s 42ms/step - loss: 15.8265 - mean_squared_error: 15.8265 - val_loss: 1.3488 - val_mean_squared_error: 1.3488\n",
      "Epoch 8/20\n",
      "3125/3125 [==============================] - 133s 42ms/step - loss: 15.8265 - mean_squared_error: 15.8265 - val_loss: 1.3489 - val_mean_squared_error: 1.3489\n",
      "Epoch 9/20\n",
      "3125/3125 [==============================] - 127s 41ms/step - loss: 15.8265 - mean_squared_error: 15.8265 - val_loss: 1.3490 - val_mean_squared_error: 1.3490\n",
      "Epoch 10/20\n",
      "3125/3125 [==============================] - 127s 41ms/step - loss: 15.8265 - mean_squared_error: 15.8265 - val_loss: 1.3490 - val_mean_squared_error: 1.3490\n",
      "Epoch 11/20\n",
      "3125/3125 [==============================] - 127s 41ms/step - loss: 15.8265 - mean_squared_error: 15.8265 - val_loss: 1.3490 - val_mean_squared_error: 1.3490\n",
      "Epoch 12/20\n",
      "3125/3125 [==============================] - 127s 41ms/step - loss: 15.8265 - mean_squared_error: 15.8265 - val_loss: 1.3490 - val_mean_squared_error: 1.3490\n",
      "Epoch 13/20\n",
      "3125/3125 [==============================] - 127s 41ms/step - loss: 15.8265 - mean_squared_error: 15.8265 - val_loss: 1.3490 - val_mean_squared_error: 1.3490\n",
      "Epoch 14/20\n",
      "3125/3125 [==============================] - 127s 41ms/step - loss: 15.8265 - mean_squared_error: 15.8265 - val_loss: 1.3490 - val_mean_squared_error: 1.3490\n",
      "Epoch 15/20\n",
      "3125/3125 [==============================] - 127s 41ms/step - loss: 15.8265 - mean_squared_error: 15.8265 - val_loss: 1.3490 - val_mean_squared_error: 1.3490\n",
      "Epoch 16/20\n",
      "3125/3125 [==============================] - 127s 41ms/step - loss: 15.8265 - mean_squared_error: 15.8265 - val_loss: 1.3490 - val_mean_squared_error: 1.3490\n",
      "Epoch 17/20\n",
      "3125/3125 [==============================] - 127s 41ms/step - loss: 15.8265 - mean_squared_error: 15.8265 - val_loss: 1.3490 - val_mean_squared_error: 1.3490\n",
      "Epoch 18/20\n",
      "3125/3125 [==============================] - 127s 41ms/step - loss: 15.8265 - mean_squared_error: 15.8265 - val_loss: 1.3490 - val_mean_squared_error: 1.3490\n",
      "Epoch 19/20\n",
      "3125/3125 [==============================] - 127s 41ms/step - loss: 15.8265 - mean_squared_error: 15.8265 - val_loss: 1.3490 - val_mean_squared_error: 1.3490\n",
      "Epoch 20/20\n",
      "3125/3125 [==============================] - 128s 41ms/step - loss: 15.8265 - mean_squared_error: 15.8265 - val_loss: 1.3490 - val_mean_squared_error: 1.3490\n"
     ]
    }
   ],
   "source": [
    "model.train()"
   ]
  },
  {
   "cell_type": "code",
   "execution_count": 10,
   "metadata": {},
   "outputs": [
    {
     "data": {
      "image/png": "[encoded data removed]",
      "text/plain": [
       "<Figure size 432x288 with 1 Axes>"
      ]
     },
     "metadata": {
      "needs_background": "light"
     },
     "output_type": "display_data"
    },
    {
     "data": {
      "image/png": "[encoded data removed]",
      "text/plain": [
       "<Figure size 432x288 with 1 Axes>"
      ]
     },
     "metadata": {
      "needs_background": "light"
     },
     "output_type": "display_data"
    }
   ],
   "source": [
    "model.Plot()"
   ]
  },
  {
   "cell_type": "code",
   "execution_count": null,
   "metadata": {},
   "outputs": [],
   "source": []
  }
 ],
 "metadata": {
  "kernelspec": {
   "display_name": "Python 3",
   "language": "python",
   "name": "python3"
  },
  "language_info": {
   "codemirror_mode": {
    "name": "ipython",
    "version": 3
   },
   "file_extension": ".py",
   "mimetype": "text/x-python",
   "name": "python",
   "nbconvert_exporter": "python",
   "pygments_lexer": "ipython3",
   "version": "3.7.7"
  }
 },
 "nbformat": 4,
 "nbformat_minor": 4
}
